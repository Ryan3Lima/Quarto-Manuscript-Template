{
 "cells": [
  {
   "cell_type": "markdown",
   "metadata": {},
   "source": [
    "---\n",
    "title: Manuscript Title\n",
    "author:\n",
    "  - name: Ryan E Lima\n",
    "    orcid: 0000-0002-5352-7215\n",
    "    corresponding: true\n",
    "    email: Ryan.lima@nau.edu\n",
    "    roles:\n",
    "      - Investigation\n",
    "      - Software\n",
    "      - Visualization\n",
    "    affiliations:\n",
    "      - Northern Arizona University\n",
    "keywords:\n",
    "  - Keyword 1\n",
    "  - Keyword 2\n",
    "abstract: |\n",
    "  Abstract Text....\n",
    "plain-language-summary: |\n",
    "  plainlanguagee summary text \n",
    "key-points:\n",
    "  - Key point 1\n",
    "  - Key point 2\n",
    "date: last-modified\n",
    "bibliography: references.bib\n",
    "citation:\n",
    "  container-title: Water Resources Research\n",
    "number-sections: true\n",
    "---"
   ]
  },
  {
   "cell_type": "markdown",
   "metadata": {
    "tags": []
   },
   "source": [
    "## Introduction\n"
   ]
  },
  {
   "cell_type": "markdown",
   "metadata": {},
   "source": [
    "Studies thinning effects in Ponderosa Pine forests found ..... [@baker_effects_1986]"
   ]
  },
  {
   "cell_type": "markdown",
   "metadata": {},
   "source": [
    "Data and methods are discussed in @sec-data-methods."
   ]
  },
  {
   "cell_type": "markdown",
   "metadata": {},
   "source": [
    "Let $x$ denote the number of eruptions in a year. Then, $x$ can be modeled by a Poisson distribution\n",
    "\n",
    "$$\n",
    "p(x) = \\frac{e^{-\\lambda} \\lambda^{x}}{x !}\n",
    "$$ {#eq-poisson}\n",
    "\n",
    "where $\\lambda$ is the rate of eruptions per year. Using @eq-poisson, the probability of an eruption in the next $t$ years can be calculated."
   ]
  },
  {
   "cell_type": "markdown",
   "metadata": {},
   "source": [
    "| Name                 | Year   |\n",
    "| -------------------- | ------ |\n",
    "| a                    | 2021   |\n",
    "| b                    | 1971   |\n",
    "| c                    | 1949   |\n",
    "| d                    | 1712   |\n",
    "| e                    | 1677   |\n",
    "| f                    | 1646   |\n",
    "| g                    | 1585   |\n",
    "| h                    | 1492   |\n",
    "\n",
    ": Table Title {#tbl-1}\n",
    "\n",
    "@tbl-1 Description of Table 1 or caption"
   ]
  },
  {
   "cell_type": "markdown",
   "metadata": {},
   "source": [
    "![Map of La Palma](images/la-palma-map.png){#fig-map}\n",
    "\n",
    "La Palma is one of the west most islands in the Volcanic Archipelago of the Canary Islands (@fig-map). "
   ]
  },
  {
   "cell_type": "markdown",
   "metadata": {},
   "source": [
    "## Data & Methods {#sec-data-methods}"
   ]
  },
  {
   "cell_type": "markdown",
   "metadata": {},
   "source": [
    "## Conclusion"
   ]
  },
  {
   "cell_type": "markdown",
   "metadata": {},
   "source": [
    "## References {.unnumbered}\n",
    "\n",
    ":::{#refs}\n",
    "\n",
    ":::"
   ]
  }
 ],
 "metadata": {
  "kernelspec": {
   "display_name": "Python 3 (ipykernel)",
   "language": "python",
   "name": "python3"
  },
  "language_info": {
   "codemirror_mode": {
    "name": "ipython",
    "version": 3
   },
   "file_extension": ".py",
   "mimetype": "text/x-python",
   "name": "python",
   "nbconvert_exporter": "python",
   "pygments_lexer": "ipython3",
   "version": "3.9.20"
  }
 },
 "nbformat": 4,
 "nbformat_minor": 4
}
