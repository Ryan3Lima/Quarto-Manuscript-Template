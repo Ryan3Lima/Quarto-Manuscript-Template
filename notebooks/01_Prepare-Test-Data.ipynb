{
 "cells": [
  {
   "cell_type": "markdown",
   "id": "0cd64b4c-6f90-4ce2-85c9-049058762f85",
   "metadata": {
    "tags": [],
    "user_expressions": []
   },
   "source": [
    "---\n",
    "title: 01 Prepare Test Data\n",
    "description: Prepare test data\n",
    "authors:\n",
    "  - name: Ryan E Lima\n",
    "    orcid: 0000-0002-5352-7215\n",
    "---"
   ]
  },
  {
   "cell_type": "markdown",
   "id": "96cd123b-e010-4778-9afa-9ca125ef50cc",
   "metadata": {
    "tags": [],
    "user_expressions": []
   },
   "source": [
    "Text description "
   ]
  },
  {
   "cell_type": "code",
   "execution_count": null,
   "id": "ac26a80e-4492-497c-bf51-9cca006a3b49",
   "metadata": {},
   "outputs": [],
   "source": []
  }
 ],
 "metadata": {
  "kernelspec": {
   "display_name": "Python 3 (ipykernel)",
   "language": "python",
   "name": "python3"
  },
  "language_info": {
   "codemirror_mode": {
    "name": "ipython",
    "version": 3
   },
   "file_extension": ".py",
   "mimetype": "text/x-python",
   "name": "python",
   "nbconvert_exporter": "python",
   "pygments_lexer": "ipython3",
   "version": "3.9.20"
  }
 },
 "nbformat": 4,
 "nbformat_minor": 5
}
